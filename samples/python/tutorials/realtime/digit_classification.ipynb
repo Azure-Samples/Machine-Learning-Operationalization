{
 "cells": [
  {
   "cell_type": "markdown",
   "metadata": {
    "deletable": true,
    "editable": true
   },
   "source": [
    "# Building your first AzureML web service using Python \n",
    "\n",
    "This tutorial demonstrates how to deploy a machine learning model built using Python and scikit-learn. \n",
    "\n",
    "Note: If you are using a DSVM, it must be configured as specified in the README in the [Machine Learning Operationalization](https://aka.ms/o16ncli) GitHub repo.\n",
    "\n",
    "The tutorial uses the digits dataset that is part of the [scikit-learn distribution](http://scikit-learn.org/stable/tutorial/basic/tutorial.html).\n",
    "\n",
    "In the tutorial, you will load a dataset, train a model on the dataset, and then publish a\n",
    "realtime scoring API for the model.\n",
    "\n",
    "To complete this tutorial:\n",
    "\n",
    "* Sign in to your DSVM.\n",
    "* Copy this notebook to a folder on the DSVM.\n",
    "* In a browser, open https://&lt;your dsvm ip address&gt;:&lt;port&gt; and sign into the Jupyter server.\n",
    "    * On a Linux DSVM the port is typically 8000\n",
    "    * On a Windows DSVM the port is typically 9999\n",
    "* In Jupyter, navigate to the folder and open the notebook.\n"
   ]
  },
  {
   "cell_type": "code",
   "execution_count": 1,
   "metadata": {
    "collapsed": true,
    "deletable": true,
    "editable": true
   },
   "outputs": [],
   "source": [
    "# Import Azure ML API SDK. The SDK is installed implicitly with the latest\n",
    "# version of the CLI in your default python environment\n",
    "from azure.ml.api.schema.dataTypes import DataTypes\n",
    "from azure.ml.api.schema.sampleDefinition import SampleDefinition\n",
    "from azure.ml.api.realtime.services import generate_schema"
   ]
  },
  {
   "cell_type": "code",
   "execution_count": 2,
   "metadata": {
    "collapsed": false,
    "deletable": true,
    "editable": true
   },
   "outputs": [
    {
     "name": "stdout",
     "output_type": "stream",
     "text": [
      "[[  0.   0.   5. ...,   0.   0.   0.]\n",
      " [  0.   0.   0. ...,  10.   0.   0.]\n",
      " [  0.   0.   0. ...,  16.   9.   0.]\n",
      " ..., \n",
      " [  0.   0.   1. ...,   6.   0.   0.]\n",
      " [  0.   0.   2. ...,  12.   0.   0.]\n",
      " [  0.   0.  10. ...,  12.   1.   0.]]\n"
     ]
    }
   ],
   "source": [
    "# Read in the digits dataset\n",
    "from sklearn import datasets\n",
    "digits = datasets.load_digits()\n",
    "print(digits.data)"
   ]
  },
  {
   "cell_type": "markdown",
   "metadata": {
    "deletable": true,
    "editable": true
   },
   "source": [
    "## Train your model\n",
    "\n",
    "The task is to predict which digit an image represents in the digits dataset. There are samples of each of the 10 possible classes (the digits zero through nine) on which you *fit* an estimator to predict the classes to which unseen samples belong."
   ]
  },
  {
   "cell_type": "code",
   "execution_count": 3,
   "metadata": {
    "collapsed": false,
    "deletable": true,
    "editable": true
   },
   "outputs": [
    {
     "data": {
      "text/plain": [
       "SVC(C=100.0, cache_size=200, class_weight=None, coef0=0.0,\n",
       "  decision_function_shape=None, degree=3, gamma=0.001, kernel='rbf',\n",
       "  max_iter=-1, probability=False, random_state=None, shrinking=True,\n",
       "  tol=0.001, verbose=False)"
      ]
     },
     "execution_count": 3,
     "metadata": {},
     "output_type": "execute_result"
    }
   ],
   "source": [
    "# Train an SVM classifier\n",
    "from sklearn import svm\n",
    "clf = svm.SVC(gamma=0.001, C=100.)\n",
    "clf.fit(digits.data[:-1], digits.target[:-1])"
   ]
  },
  {
   "cell_type": "code",
   "execution_count": 4,
   "metadata": {
    "collapsed": false,
    "deletable": true,
    "editable": true
   },
   "outputs": [
    {
     "data": {
      "text/plain": [
       "8"
      ]
     },
     "execution_count": 4,
     "metadata": {},
     "output_type": "execute_result"
    }
   ],
   "source": [
    "# Predict new inputs\n",
    "clf.predict(digits.data[-1:])[0]"
   ]
  },
  {
   "cell_type": "markdown",
   "metadata": {
    "deletable": true,
    "editable": true
   },
   "source": [
    "### Save your model\n",
    "\n",
    "Once you have a model that performs well, you can package it into a scoring service. To prepare for this, save your model locally. You then use the Joblib library to pickle the model."
   ]
  },
  {
   "cell_type": "code",
   "execution_count": 5,
   "metadata": {
    "collapsed": false,
    "deletable": true,
    "editable": true
   },
   "outputs": [
    {
     "name": "stdout",
     "output_type": "stream",
     "text": [
      "Model saved\n"
     ]
    }
   ],
   "source": [
    "# Save model\n",
    "from sklearn.externals import joblib\n",
    "import os\n",
    "if not os.path.exists('sklearn'):\n",
    "    os.makedirs('sklearn')\n",
    "joblib.dump(clf, 'sklearn/model.pkl')\n",
    "print(\"Model saved\")"
   ]
  },
  {
   "cell_type": "markdown",
   "metadata": {
    "deletable": true,
    "editable": true
   },
   "source": [
    "## Authoring a Realtime Web Service\n",
    "\n",
    "In this section, you author a realtime web service that scores the model you saved above. \n",
    "\n",
    "### Define the ```init``` and ```run``` functions\n",
    "\n",
    "Start by defining your ```init``` and ```run``` functions in the cell below. \n",
    "\n",
    "The ```init``` function initializes the web service, loading in any data or models that it needs to score your inputs. In the example below, it loads in the trained model and the schema of your dataset.\n",
    "\n",
    "The ```run``` function defines what is executed on a scoring call. In this simple example, the service loads the json input as a data frame and runs the pipeline on the input."
   ]
  },
  {
   "cell_type": "code",
   "execution_count": 6,
   "metadata": {
    "collapsed": false,
    "deletable": true,
    "editable": true
   },
   "outputs": [],
   "source": [
    "#The init and run functions will load and score your input using the saved model.\n",
    "#They will also be used to generate the main.py script which will be part of your create service call.\n",
    "def init():   \n",
    "    # read in the model file\n",
    "    from sklearn.externals import joblib\n",
    "    global model\n",
    "    model = joblib.load('sklearn/model.pkl')\n",
    "        \n",
    "def run(input_array):\n",
    "    import json        \n",
    "    if (input_array.shape != (1, 64)):\n",
    "        return 'Bad input: Expecting a json encoded list of lists of shape (1,64).'\n",
    "    else:\n",
    "        pred = model.predict(input_array)[0]\n",
    "        return json.dumps(str(pred))"
   ]
  },
  {
   "cell_type": "markdown",
   "metadata": {
    "deletable": true,
    "editable": true
   },
   "source": [
    "### Test the ```init``` and ```run``` functions\n",
    "\n",
    "Before publishing the web service, you can test the init and run functions in the notebook by running the the following cell."
   ]
  },
  {
   "cell_type": "code",
   "execution_count": 12,
   "metadata": {
    "collapsed": false,
    "deletable": true,
    "editable": true
   },
   "outputs": [
    {
     "data": {
      "text/plain": [
       "'\"8\"'"
      ]
     },
     "execution_count": 12,
     "metadata": {},
     "output_type": "execute_result"
    }
   ],
   "source": [
    "init()\n",
    "run(digits.data[-1:])"
   ]
  },
  {
   "cell_type": "markdown",
   "metadata": {
    "deletable": true,
    "editable": true
   },
   "source": [
    "### Create Web Service Schema"
   ]
  },
  {
   "cell_type": "markdown",
   "metadata": {
    "deletable": true,
    "editable": true
   },
   "source": [
    "Using the \"generate_schema\" function below automatically creates a schema JSON file for the web service.\n",
    "You will need to provide the path to the JSON schema file and main.py when calling the create service command."
   ]
  },
  {
   "cell_type": "code",
   "execution_count": 13,
   "metadata": {
    "collapsed": false,
    "deletable": true,
    "editable": true
   },
   "outputs": [
    {
     "name": "stdout",
     "output_type": "stream",
     "text": [
      "processing inputs\n",
      "processing init function\n",
      "processing run function\n",
      "setting up output directory\n",
      "Done setting up output directory, available here output_20170711205031\n"
     ]
    },
    {
     "data": {
      "text/plain": [
       "'output_20170711205031'"
      ]
     },
     "execution_count": 13,
     "metadata": {},
     "output_type": "execute_result"
    }
   ],
   "source": [
    "dataarray = digits.data[-1:]\n",
    "inputs = {\"input_array\": SampleDefinition(DataTypes.NUMPY, dataarray)}\n",
    "#Note the output location which is in the response of this call\n",
    "#The output location will include the\n",
    "generate_schema(run_func=run, inputs=inputs, filepath='service_schema.json')"
   ]
  },
  {
   "cell_type": "markdown",
   "metadata": {
    "deletable": true,
    "editable": true
   },
   "source": [
    "### Use the Azure Machine Learning CLI to deploy and manage your web services\n",
    "\n",
    "From the commandline, run the following commands to deploy your service locally.\n",
    "\n",
    "NOTE: Before you can run the Azure Machine Learning CLI command to operationalize the model, you must have set the environment variables that you generated when you setup your DSVM. If you did not do so when you configured the DSVM, see the README in the [Machine Learning Operationalization](https://aka.ms/o16ncli) GitHub repo for more information.\n",
    "\n",
    "Open the folder containing the notebook, and navigate to output folder created by the running \"generate_schema\" in the previous cell.\n",
    "\n",
    "**Local deployment to your machine**\n",
    "\n",
    "Next, run the following commands to create the web service (Sklearn folder contains the model):\n",
    "\n",
    "```\n",
    "az ml env local\n",
    "az ml service create realtime -f main.py -d ../sklearn -s service_schema.json -n mydigitservice -r scikit-py\n",
    "```\n",
    "\n",
    "**Deployment to a cluster (for production)**\n",
    "\n",
    "To create and run the web service on the ACS cluster, change to the cluster mode and rerun the service creation:\n",
    "\n",
    "```\n",
    "az ml env cluster\n",
    "az ml service create realtime -f main.py -d ../sklearn -s service_schema.json -n myremoteskdigitsservice -r scikit-py\n",
    "```\n",
    "\n",
    "To test the web service, run the following command with a sample data input:\n",
    "\n",
    "```\n",
    "az ml service run realtime -n mydigitservice -d \"{\\\"input_array\\\": [[0.0, 0.0, 10.0, 14.0, 8.0, 1.0, 0.0, 0.0, 0.0, 2.0, 16.0, 14.0, 6.0, 1.0, 0.0, 0.0, 0.0, 0.0, 15.0, 15.0, 8.0, 15.0, 0.0, 0.0, 0.0, 0.0, 5.0, 16.0, 16.0, 10.0, 0.0, 0.0, 0.0, 0.0, 12.0, 15.0, 15.0, 12.0, 0.0, 0.0, 0.0, 4.0, 16.0, 6.0, 4.0, 16.0, 6.0, 0.0, 0.0, 8.0, 16.0, 10.0, 8.0, 16.0, 8.0, 0.0, 0.0, 1.0, 8.0, 12.0, 14.0, 12.0, 1.0, 0.0]]}\"\n",
    "```\n",
    "\n",
    "To get the sample input data for the test call, use the following command while in local mode (requires the web service to have been deployed locally):\n",
    "\n",
    "```\n",
    "az ml service view realtime -n mydigitservice\n",
    "```"
   ]
  },
  {
   "cell_type": "code",
   "execution_count": null,
   "metadata": {
    "collapsed": true
   },
   "outputs": [],
   "source": []
  }
 ],
 "metadata": {
  "anaconda-cloud": {},
  "kernelspec": {
   "display_name": "Python 2",
   "language": "python",
   "name": "python2"
  },
  "language_info": {
   "codemirror_mode": {
    "name": "ipython",
    "version": 2
   },
   "file_extension": ".py",
   "mimetype": "text/x-python",
   "name": "python",
   "nbconvert_exporter": "python",
   "pygments_lexer": "ipython2",
   "version": "2.7.11"
  }
 },
 "nbformat": 4,
 "nbformat_minor": 1
}
